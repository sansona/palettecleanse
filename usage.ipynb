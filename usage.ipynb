{
 "cells": [
  {
   "cell_type": "markdown",
   "id": "9b382739",
   "metadata": {},
   "source": [
    "`palettecleanser` is a python library that allows single line conversions between images and colormaps for data visualization. `palettecleanser` supports `matplotlib`, `seaborn`, and `plotly` libraries"
   ]
  },
  {
   "cell_type": "code",
   "execution_count": 1,
   "id": "b49b00c8-cd48-4762-92cc-ae340b1e6d58",
   "metadata": {},
   "outputs": [],
   "source": [
    "import numpy as np\n",
    "import pandas as pd\n",
    "import matplotlib.pyplot as plt\n",
    "import seaborn as sns\n",
    "import plotly.express as px\n",
    "\n",
    "import warnings\n",
    "warnings.filterwarnings('ignore')"
   ]
  },
  {
   "cell_type": "markdown",
   "id": "4c80c630",
   "metadata": {},
   "source": [
    "## Introduction"
   ]
  },
  {
   "cell_type": "code",
   "execution_count": 2,
   "id": "1caeff2a-77aa-433d-bc49-93171914c038",
   "metadata": {},
   "outputs": [],
   "source": [
    "from functions import convert_to_cmap\n",
    "from classes import CMap"
   ]
  },
  {
   "cell_type": "markdown",
   "id": "280ccf46",
   "metadata": {},
   "source": [
    "`palettecleanser` reads files into a native `CMap` object. This handles the parsing and extraction of colors into colormaps. Later wrapper functions will enable single line functionality, but for displaying all cmaps generated from an image, interacting with the base `CMap` object is easiest"
   ]
  },
  {
   "cell_type": "code",
   "execution_count": null,
   "id": "5582ad19",
   "metadata": {},
   "outputs": [],
   "source": [
    "fname = 'vangogh.jpg'\n",
    "plt.imshow(plt.imread(f'images/{fname}'))\n",
    "plt.title(\"This is the image that we're going to convert to a colormap\")\n",
    "plt.show()"
   ]
  },
  {
   "cell_type": "markdown",
   "id": "14f15cae",
   "metadata": {},
   "source": [
    "To convert to a colormap, load the image into a `CMap` object. The `CMap` object enables displaying of all generatable colormaps via. the `display_all_cmaps` method. \n",
    "\n",
    "Attributes such as numbers of colors generated (`n_colors`) can be adjusted via. the class initialization call."
   ]
  },
  {
   "cell_type": "code",
   "execution_count": null,
   "id": "1b2f5061",
   "metadata": {},
   "outputs": [],
   "source": [
    "# display all colormaps available\n",
    "vangogh_obj = CMap(f'images/{fname}')\n",
    "vangogh_obj.display_all_cmaps()"
   ]
  },
  {
   "cell_type": "markdown",
   "id": "2d1ebad1",
   "metadata": {},
   "source": [
    "For a one-line conversion of an image to a colormap, the `convert_to_cmap` function can be used. Note that this only generates a single base colormap. For using a range of colormaps across plots, initializing as a `CMap` is recommended"
   ]
  },
  {
   "cell_type": "code",
   "execution_count": 5,
   "id": "4a0a922a",
   "metadata": {},
   "outputs": [],
   "source": [
    "# one-liner for conversion of image to single colormap\n",
    "vangogh = convert_to_cmap(f'images/{fname}')"
   ]
  },
  {
   "cell_type": "markdown",
   "id": "c32e47fb",
   "metadata": {},
   "source": [
    "## Examples plots"
   ]
  },
  {
   "cell_type": "markdown",
   "id": "14790c24",
   "metadata": {},
   "source": [
    "The function `display_example_plots` applies the generated color map to multiple different plot types & libraries for ease of visualization"
   ]
  },
  {
   "cell_type": "code",
   "execution_count": null,
   "id": "210b1410",
   "metadata": {},
   "outputs": [],
   "source": [
    "vangogh_obj.display_example_plots()"
   ]
  },
  {
   "cell_type": "markdown",
   "id": "d4c7594e",
   "metadata": {},
   "source": [
    "### matplotlib"
   ]
  },
  {
   "cell_type": "markdown",
   "id": "99fd4abf",
   "metadata": {},
   "source": [
    "Because the different libraries contain different representations of colormaps, `palettecleanser` CMaps can be initialized with a `library` argument to specify which library the colormap is going to be used with.\n",
    "\n",
    "Colormaps can be called in the following two ways"
   ]
  },
  {
   "cell_type": "code",
   "execution_count": 7,
   "id": "e79bb39f",
   "metadata": {},
   "outputs": [],
   "source": [
    "# this is the entire object that contains all colormaps. Use this when a variety of colormaps (sequential, quantitative, etc) may be used across multiple plot types\n",
    "vg = CMap(f'images/{fname}')"
   ]
  },
  {
   "cell_type": "code",
   "execution_count": null,
   "id": "f79bb75a",
   "metadata": {},
   "outputs": [],
   "source": [
    "# example bar plot\n",
    "categories = ['Category 1', 'Category 2', 'Category 3', 'Category 4', 'Category 5']\n",
    "values = [15, 30, 45, 60, 20]\n",
    "\n",
    "# plot using the qualitative cmap\n",
    "plt.bar(categories, values, color=vg.qualitative)\n",
    "plt.title(f'Bar Plot with Smooth Colors (`vangogh` Colormap)')\n",
    "plt.xlabel('Categories')\n",
    "plt.ylabel('Values')\n",
    "plt.show()"
   ]
  },
  {
   "cell_type": "code",
   "execution_count": null,
   "id": "78a58571-a9e6-4c34-a78e-34173a376276",
   "metadata": {},
   "outputs": [],
   "source": [
    "# example scatter plot\n",
    "x = np.random.rand(100)\n",
    "y = np.random.rand(100)\n",
    "colors = np.random.rand(100)  # Defining colors based on data range\n",
    "\n",
    "# plot using the single colormap\n",
    "plt.scatter(x, y, c=colors, cmap=vg.sequential)\n",
    "plt.colorbar()\n",
    "plt.title('Scatter Plot with `vangogh` Colormap')\n",
    "plt.xlabel('X-axis')\n",
    "plt.ylabel('Y-axis')\n",
    "plt.show()"
   ]
  },
  {
   "cell_type": "markdown",
   "id": "72aaabd5",
   "metadata": {},
   "source": [
    "### seaborn"
   ]
  },
  {
   "cell_type": "markdown",
   "id": "9b1f4853",
   "metadata": {},
   "source": [
    "Similarly to `matplotlib`, plotting with `seaborn` can be called either via. the `CMap` object itself or for an individual cmap via the `convert_to_cmap` function"
   ]
  },
  {
   "cell_type": "code",
   "execution_count": 10,
   "id": "a7c0b052",
   "metadata": {},
   "outputs": [],
   "source": [
    "# this is the entire cmap object containing all colormaps\n",
    "# for this initialization, we'll init with `n_colors`=6 since later plots can have 6+ categories\n",
    "vg_6 = CMap(f'images/{fname}', n_colors=6) \n",
    "\n",
    "# this is an individual colormap\n",
    "# vangogh_sns = convert_to_cmap(f'images/{fname}', n_colors=6, library='seaborn')"
   ]
  },
  {
   "cell_type": "code",
   "execution_count": null,
   "id": "e9233a50",
   "metadata": {},
   "outputs": [],
   "source": [
    "tips = sns.load_dataset('tips')\n",
    "sns.scatterplot(data=tips, x=\"total_bill\", y=\"tip\", hue='size', size='size', palette=vg_6.sequential)"
   ]
  },
  {
   "cell_type": "code",
   "execution_count": null,
   "id": "31c5f9a8",
   "metadata": {},
   "outputs": [],
   "source": [
    "# example bar plot - https://seaborn.pydata.org/examples/palette_choices.html\n",
    "f, (ax1, ax2) = plt.subplots(2, 1, figsize=(7, 5), sharex=True)\n",
    "\n",
    "rs = np.random.RandomState(8)\n",
    "# generate some sequential data\n",
    "x = np.array(list(\"ABCDEFGHIJ\"))\n",
    "y1 = np.arange(1, 11)\n",
    "sns.barplot(x=x, y=y1, hue=x, palette=vg_6.qualitative, ax=ax1)\n",
    "ax1.axhline(0, color=\"k\", clip_on=False)\n",
    "ax1.set_ylabel(\"Sequential\")\n",
    "\n",
    "# randomly reorder the data to make it qualitative\n",
    "y2 = rs.choice(y1, len(y1), replace=False)\n",
    "sns.barplot(x=x, y=y2, hue=x, palette=vg_6.qualitative, ax=ax2)\n",
    "ax2.axhline(0, color=\"k\", clip_on=False)\n",
    "ax2.set_ylabel(\"Qualitative\")\n",
    "\n",
    "# finalize the plot\n",
    "sns.despine(bottom=True)\n",
    "plt.setp(f.axes, yticks=[])\n",
    "plt.tight_layout(h_pad=2)\n"
   ]
  },
  {
   "cell_type": "code",
   "execution_count": null,
   "id": "30281e5b",
   "metadata": {},
   "outputs": [],
   "source": [
    "# example scatterplot - https://seaborn.pydata.org/examples/scatterplot_categorical.html\n",
    "\n",
    "df = sns.load_dataset(\"penguins\")\n",
    "\n",
    "# draw a categorical scatterplot to show each observation\n",
    "ax = sns.swarmplot(data=df, x=\"body_mass_g\", y=\"sex\", hue=\"species\", palette=vg.qualitative)\n",
    "ax.set(ylabel=\"\")\n",
    "plt.show()\n"
   ]
  },
  {
   "cell_type": "code",
   "execution_count": null,
   "id": "7fbcb978",
   "metadata": {},
   "outputs": [],
   "source": [
    "# example KDE plot - https://seaborn.pydata.org/generated/seaborn.kdeplot.html\n",
    "tips = sns.load_dataset(\"tips\")\n",
    "sns.kdeplot(\n",
    "   data=tips, x=\"total_bill\", hue=\"size\",\n",
    "   fill=True, common_norm=False, palette=vg_6.qualitative,\n",
    "   alpha=.5, linewidth=0,\n",
    ")\n",
    "plt.show()"
   ]
  },
  {
   "cell_type": "markdown",
   "id": "8cb96774",
   "metadata": {},
   "source": [
    "### Plotly"
   ]
  },
  {
   "cell_type": "markdown",
   "id": "55b2df56",
   "metadata": {},
   "source": [
    "`plotly` generally uses arguments to the `color_discrete_sequence` or `color_continuous_scale` in order to specify colormaps. Using the following code to define a colormap & calling that colormap in these function calls will yield the desired result\n",
    "\n",
    "Note that with `plotly`, explicitly calling the cmap object is unnecessary for most cases"
   ]
  },
  {
   "cell_type": "code",
   "execution_count": 15,
   "id": "c8588137",
   "metadata": {},
   "outputs": [],
   "source": [
    "# vangogh_px = convert_to_cmap(f'images/{fname}', library='plotly')"
   ]
  },
  {
   "cell_type": "code",
   "execution_count": null,
   "id": "ee85d13e",
   "metadata": {},
   "outputs": [],
   "source": [
    "# reuse same dataset as `seaborn` example for a continuous color scale\n",
    "# apply colormap to `color_continuous_scale`\n",
    "fig = px.scatter(tips, x=\"total_bill\", y=\"tip\", color=\"tip\", color_continuous_scale=vg.plotly)\n",
    "fig.show()"
   ]
  },
  {
   "cell_type": "code",
   "execution_count": null,
   "id": "8ef46d9c",
   "metadata": {},
   "outputs": [],
   "source": [
    "# discrete color map - apply colormap to `color_discrete_sequence`\n",
    "fig = px.scatter(tips, x=\"total_bill\", y=\"tip\", color=\"day\", color_discrete_sequence=vg.plotly)\n",
    "fig.show()"
   ]
  },
  {
   "cell_type": "code",
   "execution_count": null,
   "id": "5228510b",
   "metadata": {},
   "outputs": [],
   "source": [
    "# example bar plot with discrete color sequence\n",
    "df = px.data.medals_long()\n",
    "# add some example data to increase color palette\n",
    "df2 = pd.DataFrame([['Antarctica', 'gold', 10]], columns=['nation','medal','count'])\n",
    "df3 = pd.DataFrame([['Atlantis', 'bronze', 4]], columns=['nation','medal','count'])\n",
    "\n",
    "df = pd.concat([df, df2, df3])\n",
    "\n",
    "fig = px.bar(df, x=\"medal\", y=\"count\", color=\"nation\", color_discrete_sequence=vg.plotly)\n",
    "fig.show()\n"
   ]
  },
  {
   "cell_type": "code",
   "execution_count": null,
   "id": "258d6584",
   "metadata": {},
   "outputs": [],
   "source": []
  }
 ],
 "metadata": {
  "kernelspec": {
   "display_name": "Python 3",
   "language": "python",
   "name": "python3"
  },
  "language_info": {
   "codemirror_mode": {
    "name": "ipython",
    "version": 3
   },
   "file_extension": ".py",
   "mimetype": "text/x-python",
   "name": "python",
   "nbconvert_exporter": "python",
   "pygments_lexer": "ipython3",
   "version": "3.8.10"
  }
 },
 "nbformat": 4,
 "nbformat_minor": 5
}
