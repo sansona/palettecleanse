{
 "cells": [
  {
   "cell_type": "markdown",
   "id": "9b382739",
   "metadata": {},
   "source": [
    "`palettecleanse` is a python library that allows single line conversions between images and colormaps for data visualization. `palettecleanse` supports `matplotlib`, `seaborn`, and `plotly` libraries"
   ]
  },
  {
   "cell_type": "code",
   "execution_count": 1,
   "id": "b49b00c8-cd48-4762-92cc-ae340b1e6d58",
   "metadata": {},
   "outputs": [],
   "source": [
    "import numpy as np\n",
    "import pandas as pd\n",
    "import matplotlib.pyplot as plt\n",
    "import seaborn as sns\n",
    "import plotly.express as px\n",
    "\n",
    "import warnings\n",
    "warnings.filterwarnings('ignore')"
   ]
  },
  {
   "cell_type": "markdown",
   "id": "4c80c630",
   "metadata": {},
   "source": [
    "## Introduction"
   ]
  },
  {
   "cell_type": "markdown",
   "id": "d3c8892d",
   "metadata": {},
   "source": [
    "This notebook can be run in full once `palettecleanser` has been installed. Filepaths to images will have to be explicitly declared however, if not running alongside the cloned repository."
   ]
  },
  {
   "cell_type": "code",
   "execution_count": 2,
   "id": "1caeff2a-77aa-433d-bc49-93171914c038",
   "metadata": {},
   "outputs": [],
   "source": [
    "from palettecleanse.palette import Palette"
   ]
  },
  {
   "cell_type": "markdown",
   "id": "280ccf46",
   "metadata": {},
   "source": [
    "`palettecleanse` reads files into a native `Palette` object. This handles the parsing and extraction of colors into colormaps."
   ]
  },
  {
   "cell_type": "code",
   "execution_count": null,
   "id": "5582ad19",
   "metadata": {},
   "outputs": [],
   "source": [
    "# replace with your desired image & filepath if not running directly from cloned repository\n",
    "fname = 'vangogh.jpg'\n",
    "plt.imshow(plt.imread(f'images/{fname}'))\n",
    "plt.title(\"This is the image that we're going to convert to a color palette\")\n",
    "plt.axis('off')\n",
    "plt.show()"
   ]
  },
  {
   "cell_type": "markdown",
   "id": "14f15cae",
   "metadata": {},
   "source": [
    "To convert to a colormap, load the image into a `Palette` object. The `Palette` object enables displaying of all generatable colormaps via. the `display_all_palettes` method. \n",
    "\n",
    "Attributes such as numbers of colors generated (`n_colors`) can be adjusted via. the class initialization call."
   ]
  },
  {
   "cell_type": "code",
   "execution_count": null,
   "id": "1b2f5061",
   "metadata": {},
   "outputs": [],
   "source": [
    "# display all colormaps available\n",
    "vangogh = Palette(f'images/{fname}')\n",
    "vangogh.display_all_palettes()"
   ]
  },
  {
   "cell_type": "markdown",
   "id": "c32e47fb",
   "metadata": {},
   "source": [
    "## Examples plots"
   ]
  },
  {
   "cell_type": "markdown",
   "id": "14790c24",
   "metadata": {},
   "source": [
    "The function `display_example_plots` applies the generated color map to multiple different plot types & libraries for ease of visualization"
   ]
  },
  {
   "cell_type": "code",
   "execution_count": null,
   "id": "210b1410",
   "metadata": {},
   "outputs": [],
   "source": [
    "vangogh.display_example_plots()"
   ]
  },
  {
   "cell_type": "markdown",
   "id": "2e7d6462",
   "metadata": {},
   "source": [
    "A `plotly` variant, `display_plotly_examples`, is also available"
   ]
  },
  {
   "cell_type": "code",
   "execution_count": 6,
   "id": "9d6e6fd8",
   "metadata": {},
   "outputs": [],
   "source": [
    "# generates a large image file, keeping it commented out by default\n",
    "#vangogh.display_plotly_examples()"
   ]
  },
  {
   "cell_type": "markdown",
   "id": "0f0c8f2a",
   "metadata": {},
   "source": [
    "`palettecleanse` also comes prepackaged with existing custom palettes that can be accessed via. `palettecleanse.presets`"
   ]
  },
  {
   "cell_type": "code",
   "execution_count": null,
   "id": "d96afd5b",
   "metadata": {},
   "outputs": [],
   "source": [
    "from palettecleanse import presets\n",
    "\n",
    "presets.TwilightSunset.display_all_palettes()"
   ]
  },
  {
   "cell_type": "markdown",
   "id": "3e8fb8e9",
   "metadata": {},
   "source": [
    "All available custom palettes can be displayed using the `display_all_custom_palettes` method"
   ]
  },
  {
   "cell_type": "code",
   "execution_count": null,
   "id": "709f5036",
   "metadata": {},
   "outputs": [],
   "source": [
    "presets.display_all_custom_palettes('sequential')"
   ]
  },
  {
   "cell_type": "markdown",
   "id": "d4c7594e",
   "metadata": {},
   "source": [
    "### matplotlib"
   ]
  },
  {
   "cell_type": "markdown",
   "id": "de4d8f71",
   "metadata": {},
   "source": [
    "Colormaps in `matplotlib` are generally specified via the `color` or `palette` attributes in the plot function call"
   ]
  },
  {
   "cell_type": "code",
   "execution_count": 9,
   "id": "e79bb39f",
   "metadata": {},
   "outputs": [],
   "source": [
    "# this is the entire object that contains all colormaps.\n",
    "# replace filepath if not running with cloned repository\n",
    "vg = Palette(f'images/{fname}')\n",
    "\n",
    "# individual palettes can be accessed via the class attributes\n",
    "sequential_palette = vg.sequential\n",
    "diverging_palette = vg.diverging\n",
    "cyclic_palette = vg.cyclic\n",
    "qualitative_palette = vg.qualitative"
   ]
  },
  {
   "cell_type": "code",
   "execution_count": null,
   "id": "f79bb75a",
   "metadata": {},
   "outputs": [],
   "source": [
    "# example bar plot\n",
    "categories = ['Category 1', 'Category 2', 'Category 3', 'Category 4', 'Category 5']\n",
    "values = [15, 30, 45, 60, 20]\n",
    "\n",
    "# plot using the qualitative palette\n",
    "plt.bar(categories, values, color=vg.qualitative)\n",
    "plt.show()"
   ]
  },
  {
   "cell_type": "code",
   "execution_count": null,
   "id": "78a58571-a9e6-4c34-a78e-34173a376276",
   "metadata": {},
   "outputs": [],
   "source": [
    "# example scatter plot\n",
    "x = np.random.rand(100)\n",
    "y = np.random.rand(100)\n",
    "colors = np.random.rand(100) # defining colors based on data range\n",
    "\n",
    "# plot using the single colormap\n",
    "plt.scatter(x, y, c=colors, cmap=vg.sequential)\n",
    "plt.colorbar()\n",
    "plt.show()"
   ]
  },
  {
   "cell_type": "markdown",
   "id": "72aaabd5",
   "metadata": {},
   "source": [
    "### seaborn"
   ]
  },
  {
   "cell_type": "markdown",
   "id": "f6362dd1",
   "metadata": {},
   "source": [
    "colormaps can be specified in `seaborn` via the `palette` field"
   ]
  },
  {
   "cell_type": "code",
   "execution_count": 12,
   "id": "a7c0b052",
   "metadata": {},
   "outputs": [],
   "source": [
    "# this is the entire palette object containing all colormaps\n",
    "# for this initialization, we'll init with `n_colors`=6 since later plots can have 6+ categories\n",
    "vg_6 = Palette(f'images/{fname}', n_colors=6) "
   ]
  },
  {
   "cell_type": "code",
   "execution_count": null,
   "id": "e9233a50",
   "metadata": {},
   "outputs": [],
   "source": [
    "tips = sns.load_dataset('tips')\n",
    "sns.scatterplot(data=tips, x=\"total_bill\", y=\"tip\", hue='size', size='size', palette=vg_6.sequential)\n",
    "plt.show()"
   ]
  },
  {
   "cell_type": "markdown",
   "id": "1c83edd0",
   "metadata": {},
   "source": [
    "In this plot below, 10 different categories exist. Initializing the object with `n_colors=10` will serve to make sure each bar has a distinct color. Note that this is contingent on the variety of colors available within the image however"
   ]
  },
  {
   "cell_type": "code",
   "execution_count": 14,
   "id": "9abee2b7",
   "metadata": {},
   "outputs": [],
   "source": [
    "# palette with 10 distinct colors in map\n",
    "vg_10 = Palette(f'images/{fname}', n_colors=10) "
   ]
  },
  {
   "cell_type": "code",
   "execution_count": null,
   "id": "cb5012ff",
   "metadata": {},
   "outputs": [],
   "source": [
    "# example bar plot - https://seaborn.pydata.org/examples/palette_choices.html\n",
    "f, ax = plt.subplots(1, 1, figsize=(5, 3))\n",
    "\n",
    "rs = np.random.RandomState(8)\n",
    "\n",
    "x = np.array(list(\"ABCDEFGHIJ\"))\n",
    "y = rs.choice(np.arange(1, 11), len(x), replace=False)\n",
    "sns.barplot(x=x, y=y, hue=x, palette=vg_10.qualitative, ax=ax)\n",
    "\n",
    "plt.tight_layout()"
   ]
  },
  {
   "cell_type": "code",
   "execution_count": null,
   "id": "30281e5b",
   "metadata": {},
   "outputs": [],
   "source": [
    "# example scatterplot - https://seaborn.pydata.org/examples/scatterplot_categorical.html\n",
    "\n",
    "df = sns.load_dataset(\"penguins\")\n",
    "\n",
    "# draw a categorical scatterplot to show each observation\n",
    "ax = sns.swarmplot(data=df, x=\"body_mass_g\", y=\"sex\", hue=\"species\", palette=vg.qualitative)\n",
    "ax.set(ylabel=\"\")\n",
    "plt.show()\n"
   ]
  },
  {
   "cell_type": "code",
   "execution_count": null,
   "id": "7fbcb978",
   "metadata": {},
   "outputs": [],
   "source": [
    "# example KDE plot - https://seaborn.pydata.org/generated/seaborn.kdeplot.html\n",
    "tips = sns.load_dataset(\"tips\")\n",
    "sns.kdeplot(\n",
    "   data=tips, x=\"total_bill\", hue=\"size\",\n",
    "   fill=True, common_norm=False, palette=vg_6.qualitative,\n",
    "   alpha=.5, linewidth=0,\n",
    ")\n",
    "plt.show()"
   ]
  },
  {
   "cell_type": "markdown",
   "id": "8cb96774",
   "metadata": {},
   "source": [
    "### Plotly"
   ]
  },
  {
   "cell_type": "markdown",
   "id": "55b2df56",
   "metadata": {},
   "source": [
    "`plotly` generally uses arguments to the `color_discrete_sequence` or `color_continuous_scale` in order to specify colormaps. By default, `plotly` handles a lot of the backend colormaps parsing on its own, so simply pluggin in the `palette.plotly` colormap available into either field will suffice\n",
    "\n",
    "In individual `plotly.go.Figures`, the color palette is often specified in the `marker` field. See the example code in `palettes.display_plotly_examples()` for an example\n"
   ]
  },
  {
   "cell_type": "code",
   "execution_count": null,
   "id": "ee85d13e",
   "metadata": {},
   "outputs": [],
   "source": [
    "# reuse same dataset as `seaborn` example for a continuous color scale\n",
    "# apply colormap to `color_continuous_scale`\n",
    "fig = px.scatter(tips, x=\"total_bill\", y=\"tip\", color=\"tip\", color_continuous_scale=vg.plotly)\n",
    "fig.show()"
   ]
  },
  {
   "cell_type": "code",
   "execution_count": null,
   "id": "8ef46d9c",
   "metadata": {},
   "outputs": [],
   "source": [
    "# discrete color map - apply colormap to `color_discrete_sequence`\n",
    "fig = px.scatter(tips, x=\"total_bill\", y=\"tip\", color=\"day\", color_discrete_sequence=vg.plotly)\n",
    "fig.show()"
   ]
  },
  {
   "cell_type": "code",
   "execution_count": null,
   "id": "5228510b",
   "metadata": {},
   "outputs": [],
   "source": [
    "# example bar plot with discrete color sequence\n",
    "df = px.data.medals_long()\n",
    "# add some example data to increase color palette\n",
    "df2 = pd.DataFrame([['Antarctica', 'gold', 10]], columns=['nation','medal','count'])\n",
    "df3 = pd.DataFrame([['Atlantis', 'bronze', 4]], columns=['nation','medal','count'])\n",
    "\n",
    "df = pd.concat([df, df2, df3])\n",
    "\n",
    "fig = px.bar(df, x=\"medal\", y=\"count\", color=\"nation\", color_discrete_sequence=vg.plotly)\n",
    "fig.show()\n"
   ]
  }
 ],
 "metadata": {
  "kernelspec": {
   "display_name": "Python 3",
   "language": "python",
   "name": "python3"
  },
  "language_info": {
   "codemirror_mode": {
    "name": "ipython",
    "version": 3
   },
   "file_extension": ".py",
   "mimetype": "text/x-python",
   "name": "python",
   "nbconvert_exporter": "python",
   "pygments_lexer": "ipython3",
   "version": "3.8.10"
  }
 },
 "nbformat": 4,
 "nbformat_minor": 5
}
